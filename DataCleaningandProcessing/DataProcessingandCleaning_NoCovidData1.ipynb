{
  "nbformat": 4,
  "nbformat_minor": 0,
  "metadata": {
    "colab": {
      "provenance": []
    },
    "kernelspec": {
      "name": "python3",
      "display_name": "Python 3"
    },
    "language_info": {
      "name": "python"
    }
  },
  "cells": [
    {
      "cell_type": "code",
      "source": [
        "import pandas as pd"
      ],
      "metadata": {
        "id": "_IM3QFWOnOT1"
      },
      "execution_count": null,
      "outputs": []
    },
    {
      "cell_type": "code",
      "source": [
        "# Read all CSV file into a DataFrame\n",
        "\n",
        "df2008 = pd.read_csv(\"/content/Crime_Incidents_in_2008.csv\")\n",
        "df2009 = pd.read_csv(\"/content/Crime_Incidents_in_2009.csv\")\n",
        "df2010 = pd.read_csv(\"/content/Crime_Incidents_in_2010.csv\")\n",
        "df2011 = pd.read_csv(\"/content/Crime_Incidents_in_2011.csv\")\n",
        "df2012 = pd.read_csv(\"/content/Crime_Incidents_in_2012.csv\")\n",
        "df2013 = pd.read_csv(\"/content/Crime_Incidents_in_2013.csv\")\n",
        "df2014 = pd.read_csv(\"/content/Crime_Incidents_in_2014.csv\")\n",
        "df2015 = pd.read_csv(\"/content/Crime_Incidents_in_2015.csv\")\n",
        "df2016 = pd.read_csv(\"/content/Crime_Incidents_in_2016.csv\")\n",
        "df2017 = pd.read_csv(\"/content/Crime_Incidents_in_2017.csv\")\n",
        "df2018 = pd.read_csv(\"/content/Crime_Incidents_in_2018.csv\")\n",
        "df2019 = pd.read_csv(\"/content/Crime_Incidents_in_2019.csv\")\n",
        "df2022 = pd.read_csv(\"/content/Crime_Incidents_in_2022.csv\")\n",
        "df2023 = pd.read_csv(\"/content/Crime_Incidents_in_2023.csv\")\n",
        "df2024 = pd.read_csv(\"/content/Crime_Incidents_in_2024_ThroughSept.csv\")"
      ],
      "metadata": {
        "id": "QhUsgoxMWdF1"
      },
      "execution_count": null,
      "outputs": []
    },
    {
      "cell_type": "code",
      "source": [
        "# Storing column names of all the dataframes\n",
        "\n",
        "columns2008 = set(df2008.columns)\n",
        "columns2009 = set(df2009.columns)\n",
        "columns2010 = set(df2010.columns)\n",
        "columns2011 = set(df2011.columns)\n",
        "columns2012 = set(df2012.columns)\n",
        "columns2013 = set(df2013.columns)\n",
        "columns2014 = set(df2014.columns)\n",
        "columns2015 = set(df2015.columns)\n",
        "columns2016 = set(df2016.columns)\n",
        "columns2017 = set(df2017.columns)\n",
        "columns2018 = set(df2018.columns)\n",
        "columns2019 = set(df2019.columns)\n",
        "columns2022 = set(df2022.columns)\n",
        "columns2023 = set(df2023.columns)\n",
        "columns2024 = set(df2024.columns)"
      ],
      "metadata": {
        "id": "spsXOTBjYFSs"
      },
      "execution_count": null,
      "outputs": []
    },
    {
      "cell_type": "code",
      "source": [
        "# Printing the column names to compare before merging the datasets\n",
        "\n",
        "print(columns2008)\n",
        "print(columns2009)\n",
        "print(columns2010)\n",
        "print(columns2011)\n",
        "print(columns2012)\n",
        "print(columns2013)\n",
        "print(columns2014)\n",
        "print(columns2015)\n",
        "print(columns2016)\n",
        "print(columns2017)\n",
        "print(columns2018)\n",
        "print(columns2019)\n",
        "print(columns2022)\n",
        "print(columns2023)\n",
        "print(columns2024)"
      ],
      "metadata": {
        "colab": {
          "base_uri": "https://localhost:8080/"
        },
        "id": "Xo5EVazgZHGQ",
        "outputId": "838f4731-fbd7-4226-c036-521a52b27c76"
      },
      "execution_count": null,
      "outputs": [
        {
          "output_type": "stream",
          "name": "stdout",
          "text": [
            "{'BID', 'LONGITUDE', 'END_DATE', 'XBLOCK', 'VOTING_PRECINCT', 'CENSUS_TRACT', 'BLOCK', 'YBLOCK', 'WARD', 'Y', 'DISTRICT', 'CCN', 'PSA', 'OCTO_RECORD_ID', 'METHOD', 'SHIFT', 'BLOCK_GROUP', 'START_DATE', 'ANC', 'REPORT_DAT', 'X', 'OFFENSE', 'NEIGHBORHOOD_CLUSTER', 'LATITUDE', 'OBJECTID'}\n",
            "{'BID', 'LONGITUDE', 'END_DATE', 'XBLOCK', 'VOTING_PRECINCT', 'CENSUS_TRACT', 'BLOCK', 'YBLOCK', 'WARD', 'Y', 'DISTRICT', 'CCN', 'PSA', 'OCTO_RECORD_ID', 'METHOD', 'SHIFT', 'BLOCK_GROUP', 'START_DATE', 'ANC', 'REPORT_DAT', 'X', 'OFFENSE', 'NEIGHBORHOOD_CLUSTER', 'LATITUDE', 'OBJECTID'}\n",
            "{'BID', 'LONGITUDE', 'END_DATE', 'XBLOCK', 'VOTING_PRECINCT', 'CENSUS_TRACT', 'BLOCK', 'YBLOCK', 'WARD', 'Y', 'DISTRICT', 'CCN', 'PSA', 'OCTO_RECORD_ID', 'METHOD', 'SHIFT', 'BLOCK_GROUP', 'START_DATE', 'ANC', 'REPORT_DAT', 'X', 'OFFENSE', 'NEIGHBORHOOD_CLUSTER', 'LATITUDE', 'OBJECTID'}\n",
            "{'BID', 'LONGITUDE', 'END_DATE', 'XBLOCK', 'VOTING_PRECINCT', 'CENSUS_TRACT', 'BLOCK', 'YBLOCK', 'WARD', 'Y', 'DISTRICT', 'CCN', 'PSA', 'OCTO_RECORD_ID', 'METHOD', 'SHIFT', 'BLOCK_GROUP', 'START_DATE', 'ANC', 'REPORT_DAT', 'X', 'OFFENSE', 'NEIGHBORHOOD_CLUSTER', 'LATITUDE', 'OBJECTID'}\n",
            "{'BID', 'LONGITUDE', 'END_DATE', 'XBLOCK', 'VOTING_PRECINCT', 'CENSUS_TRACT', 'BLOCK', 'YBLOCK', 'WARD', 'Y', 'DISTRICT', 'CCN', 'PSA', 'OCTO_RECORD_ID', 'METHOD', 'SHIFT', 'BLOCK_GROUP', 'START_DATE', 'ANC', 'REPORT_DAT', 'X', 'OFFENSE', 'NEIGHBORHOOD_CLUSTER', 'LATITUDE', 'OBJECTID'}\n",
            "{'BID', 'LONGITUDE', 'END_DATE', 'XBLOCK', 'VOTING_PRECINCT', 'CENSUS_TRACT', 'BLOCK', 'YBLOCK', 'WARD', 'Y', 'DISTRICT', 'CCN', 'PSA', 'OCTO_RECORD_ID', 'METHOD', 'SHIFT', 'BLOCK_GROUP', 'START_DATE', 'ANC', 'REPORT_DAT', 'X', 'OFFENSE', 'NEIGHBORHOOD_CLUSTER', 'LATITUDE', 'OBJECTID'}\n",
            "{'BID', 'LONGITUDE', 'END_DATE', 'XBLOCK', 'VOTING_PRECINCT', 'CENSUS_TRACT', 'BLOCK', 'YBLOCK', 'WARD', 'Y', 'DISTRICT', 'CCN', 'PSA', 'OCTO_RECORD_ID', 'METHOD', 'SHIFT', 'BLOCK_GROUP', 'START_DATE', 'ANC', 'REPORT_DAT', 'X', 'OFFENSE', 'NEIGHBORHOOD_CLUSTER', 'LATITUDE', 'OBJECTID'}\n",
            "{'BID', 'LONGITUDE', 'END_DATE', 'XBLOCK', 'VOTING_PRECINCT', 'CENSUS_TRACT', 'BLOCK', 'YBLOCK', 'WARD', 'Y', 'DISTRICT', 'CCN', 'PSA', 'OCTO_RECORD_ID', 'METHOD', 'SHIFT', 'BLOCK_GROUP', 'START_DATE', 'ANC', 'REPORT_DAT', 'X', 'OFFENSE', 'NEIGHBORHOOD_CLUSTER', 'LATITUDE', 'OBJECTID'}\n",
            "{'BID', 'LONGITUDE', 'END_DATE', 'XBLOCK', 'VOTING_PRECINCT', 'CENSUS_TRACT', 'BLOCK', 'YBLOCK', 'WARD', 'Y', 'DISTRICT', 'CCN', 'PSA', 'OCTO_RECORD_ID', 'METHOD', 'SHIFT', 'BLOCK_GROUP', 'START_DATE', 'ANC', 'REPORT_DAT', 'X', 'OFFENSE', 'NEIGHBORHOOD_CLUSTER', 'LATITUDE', 'OBJECTID'}\n",
            "{'BID', 'LONGITUDE', 'END_DATE', 'XBLOCK', 'VOTING_PRECINCT', 'CENSUS_TRACT', 'BLOCK', 'YBLOCK', 'WARD', 'Y', 'DISTRICT', 'CCN', 'PSA', 'OCTO_RECORD_ID', 'METHOD', 'SHIFT', 'BLOCK_GROUP', 'START_DATE', 'ANC', 'REPORT_DAT', 'X', 'OFFENSE', 'NEIGHBORHOOD_CLUSTER', 'LATITUDE', 'OBJECTID'}\n",
            "{'BID', 'LONGITUDE', 'END_DATE', 'XBLOCK', 'VOTING_PRECINCT', 'CENSUS_TRACT', 'BLOCK', 'YBLOCK', 'WARD', 'Y', 'DISTRICT', 'CCN', 'PSA', 'OCTO_RECORD_ID', 'METHOD', 'SHIFT', 'BLOCK_GROUP', 'START_DATE', 'ANC', 'REPORT_DAT', 'X', 'OFFENSE', 'NEIGHBORHOOD_CLUSTER', 'LATITUDE', 'OBJECTID'}\n",
            "{'BID', 'LONGITUDE', 'END_DATE', 'XBLOCK', 'VOTING_PRECINCT', 'CENSUS_TRACT', 'BLOCK', 'YBLOCK', 'WARD', 'Y', 'DISTRICT', 'CCN', 'PSA', 'OCTO_RECORD_ID', 'METHOD', 'SHIFT', 'BLOCK_GROUP', 'START_DATE', 'ANC', 'REPORT_DAT', 'X', 'OFFENSE', 'NEIGHBORHOOD_CLUSTER', 'LATITUDE', 'OBJECTID'}\n",
            "{'BID', 'LONGITUDE', 'END_DATE', 'XBLOCK', 'VOTING_PRECINCT', 'CENSUS_TRACT', 'BLOCK', 'YBLOCK', 'WARD', 'Y', 'DISTRICT', 'CCN', 'PSA', 'OCTO_RECORD_ID', 'METHOD', 'SHIFT', 'BLOCK_GROUP', 'START_DATE', 'ANC', 'REPORT_DAT', 'X', 'OFFENSE', 'NEIGHBORHOOD_CLUSTER', 'LATITUDE', 'OBJECTID'}\n",
            "{'BID', 'LONGITUDE', 'END_DATE', 'XBLOCK', 'VOTING_PRECINCT', 'CENSUS_TRACT', 'BLOCK', 'YBLOCK', 'WARD', 'Y', 'DISTRICT', 'CCN', 'PSA', 'OCTO_RECORD_ID', 'METHOD', 'SHIFT', 'BLOCK_GROUP', 'START_DATE', 'ANC', 'REPORT_DAT', 'X', 'OFFENSE', 'NEIGHBORHOOD_CLUSTER', 'LATITUDE', 'OBJECTID'}\n",
            "{'BID', 'LONGITUDE', 'END_DATE', 'XBLOCK', 'VOTING_PRECINCT', 'CENSUS_TRACT', 'BLOCK', 'YBLOCK', 'WARD', 'Y', 'DISTRICT', 'CCN', 'PSA', 'OCTO_RECORD_ID', 'METHOD', 'SHIFT', 'BLOCK_GROUP', 'START_DATE', 'ANC', 'REPORT_DAT', 'X', 'OFFENSE', 'NEIGHBORHOOD_CLUSTER', 'LATITUDE', 'OBJECTID'}\n"
          ]
        }
      ]
    },
    {
      "cell_type": "code",
      "source": [
        "# List of dataframes from 2008 to 2023 and concat them\n",
        "\n",
        "frames = [df2008, df2009, df2010, df2011, df2012, df2013, df2014, df2015, df2016, df2017, df2018, df2019, df2022, df2023, df2024]\n",
        "\n",
        "df_combine = pd.concat(frames)"
      ],
      "metadata": {
        "id": "T1QGfuBNcTia"
      },
      "execution_count": null,
      "outputs": []
    },
    {
      "cell_type": "code",
      "source": [
        "print(df_combine)"
      ],
      "metadata": {
        "colab": {
          "base_uri": "https://localhost:8080/"
        },
        "id": "7r7iCNTEumy3",
        "outputId": "409dac01-cb3f-476b-dde5-913dc19188d9"
      },
      "execution_count": null,
      "outputs": [
        {
          "output_type": "stream",
          "name": "stdout",
          "text": [
            "               X          Y       CCN              REPORT_DAT     SHIFT  \\\n",
            "0      402846.00  133805.00   8175440  2008/12/12 22:00:00+00   EVENING   \n",
            "1      400134.00  130213.00   8175469  2008/12/12 21:45:00+00   EVENING   \n",
            "2      396745.00  137321.00   8175472  2008/12/12 21:28:00+00   EVENING   \n",
            "3      397553.00  141435.00   8175489  2008/12/13 00:50:00+00   EVENING   \n",
            "4      396326.00  139306.00   8175494  2008/12/12 22:00:00+00   EVENING   \n",
            "...          ...        ...       ...                     ...       ...   \n",
            "24530  396046.20  138387.65  24015980  2024/02/01 05:26:08+00  MIDNIGHT   \n",
            "24531  396455.48  139555.85  24018602  2024/02/06 03:05:47+00   EVENING   \n",
            "24532  400687.19  137300.09  24021951  2024/02/12 04:20:28+00  MIDNIGHT   \n",
            "24533  398358.20  137185.34  24145015  2024/09/20 01:31:11+00   EVENING   \n",
            "24534  399823.20  136784.66  24145358  2024/09/20 14:24:08+00       DAY   \n",
            "\n",
            "       METHOD                     OFFENSE  \\\n",
            "0      OTHERS                 THEFT/OTHER   \n",
            "1      OTHERS  ASSAULT W/DANGEROUS WEAPON   \n",
            "2      OTHERS                 THEFT/OTHER   \n",
            "3      OTHERS                 THEFT/OTHER   \n",
            "4      OTHERS                 THEFT/OTHER   \n",
            "...       ...                         ...   \n",
            "24530  OTHERS                 THEFT/OTHER   \n",
            "24531  OTHERS                 THEFT/OTHER   \n",
            "24532  OTHERS                    BURGLARY   \n",
            "24533  OTHERS                 THEFT/OTHER   \n",
            "24534  OTHERS                THEFT F/AUTO   \n",
            "\n",
            "                                             BLOCK         XBLOCK  \\\n",
            "0      2800 - 2821 BLOCK OF PENNSYLVANIA AVENUE SE  402846.000000   \n",
            "1               3301 - 3699 BLOCK OF 6TH STREET SE  400134.000000   \n",
            "2                 1600 - 1699 BLOCK OF L STREET NW  396745.000000   \n",
            "3           1200  - 1299 BLOCK OF TAYLOR STREET NW  397553.000000   \n",
            "4              2400 - 2499 BLOCK OF 18TH STREET NW  396326.000000   \n",
            "...                                            ...            ...   \n",
            "24530   1700 - 1799 BLOCK OF CONNECTICUT AVENUE NW  396046.200000   \n",
            "24531        1737 - 1776 BLOCK OF COLUMBIA ROAD NW  396455.480000   \n",
            "24532       1001 - 1100 BLOCK OF FLORIDA AVENUE NE  400687.190000   \n",
            "24533                5TH STREET NW AND K STREET NW  398358.199996   \n",
            "24534                G STREET NE AND 3RD STREET NE  399823.199998   \n",
            "\n",
            "              YBLOCK  ...  BLOCK_GROUP CENSUS_TRACT  VOTING_PRECINCT  \\\n",
            "0      133805.000000  ...     007604 3       7604.0     Precinct 111   \n",
            "1      130213.000000  ...     009804 2       9804.0     Precinct 122   \n",
            "2      137321.000000  ...     010700 1      10700.0      Precinct 17   \n",
            "3      141435.000000  ...     002502 1       2502.0      Precinct 47   \n",
            "4      139306.000000  ...     004002 1       4002.0      Precinct 25   \n",
            "...              ...  ...          ...          ...              ...   \n",
            "24530  138387.650000  ...     004202 2       4202.0      Precinct 14   \n",
            "24531  139555.850000  ...     003901 2       3901.0      Precinct 35   \n",
            "24532  137300.090000  ...     008802 3       8802.0      Precinct 77   \n",
            "24533  137185.339997  ...     004703 2       4703.0       Precinct 1   \n",
            "24534  136784.659996  ...     008301 1       8301.0      Precinct 83   \n",
            "\n",
            "        LATITUDE  LONGITUDE                        BID  \\\n",
            "0      38.872067 -76.967204                        NaN   \n",
            "1      38.839713 -76.998457                        NaN   \n",
            "2      38.903739 -77.037526            GOLDEN TRIANGLE   \n",
            "3      38.940802 -77.028226                        NaN   \n",
            "4      38.921619 -77.042367               ADAMS MORGAN   \n",
            "...          ...        ...                        ...   \n",
            "24530  38.913345 -77.045589              DUPONT CIRCLE   \n",
            "24531  38.923870 -77.040876               ADAMS MORGAN   \n",
            "24532  38.903556 -76.992078                        NaN   \n",
            "24533  38.902521 -77.018928  MOUNT VERNON TRIANGLE CID   \n",
            "24534  38.898913 -77.002038                        NaN   \n",
            "\n",
            "                   START_DATE                END_DATE   OBJECTID  \\\n",
            "0      2008/12/12 17:00:00+00  2008/12/12 19:00:00+00  591660807   \n",
            "1      2008/12/12 20:03:00+00  2008/12/12 05:00:00+00  591660808   \n",
            "2      2008/12/12 16:30:00+00  2008/12/12 20:30:00+00  591660809   \n",
            "3      2008/12/12 21:15:00+00  2008/12/12 21:30:00+00  591660810   \n",
            "4      2008/01/07 23:00:00+00  2008/01/07 23:20:00+00  591660811   \n",
            "...                       ...                     ...        ...   \n",
            "24530  2024/02/01 03:52:00+00  2024/02/01 03:53:00+00  618881138   \n",
            "24531  2024/02/06 01:27:00+00  2024/02/06 01:35:00+00  618881139   \n",
            "24532  2024/02/12 00:57:00+00  2024/02/12 01:05:00+00  618881144   \n",
            "24533  2024/09/19 21:02:00+00  2024/09/19 21:30:00+00  618881146   \n",
            "24534  2024/09/20 13:30:00+00  2024/09/20 15:10:00+00  618881147   \n",
            "\n",
            "       OCTO_RECORD_ID  \n",
            "0                 NaN  \n",
            "1                 NaN  \n",
            "2                 NaN  \n",
            "3                 NaN  \n",
            "4                 NaN  \n",
            "...               ...  \n",
            "24530             NaN  \n",
            "24531             NaN  \n",
            "24532             NaN  \n",
            "24533             NaN  \n",
            "24534             NaN  \n",
            "\n",
            "[501225 rows x 25 columns]\n"
          ]
        }
      ]
    },
    {
      "cell_type": "code",
      "source": [
        "print(df_combine.info())"
      ],
      "metadata": {
        "colab": {
          "base_uri": "https://localhost:8080/"
        },
        "id": "yGco-1-8mTGU",
        "outputId": "fff1159d-f334-4ac5-a335-bc935d642e46"
      },
      "execution_count": null,
      "outputs": [
        {
          "output_type": "stream",
          "name": "stdout",
          "text": [
            "<class 'pandas.core.frame.DataFrame'>\n",
            "Index: 501225 entries, 0 to 24534\n",
            "Data columns (total 25 columns):\n",
            " #   Column                Non-Null Count   Dtype  \n",
            "---  ------                --------------   -----  \n",
            " 0   X                     501225 non-null  float64\n",
            " 1   Y                     501225 non-null  float64\n",
            " 2   CCN                   501225 non-null  int64  \n",
            " 3   REPORT_DAT            501225 non-null  object \n",
            " 4   SHIFT                 501225 non-null  object \n",
            " 5   METHOD                501225 non-null  object \n",
            " 6   OFFENSE               501225 non-null  object \n",
            " 7   BLOCK                 501223 non-null  object \n",
            " 8   XBLOCK                501225 non-null  float64\n",
            " 9   YBLOCK                501225 non-null  float64\n",
            " 10  WARD                  501192 non-null  float64\n",
            " 11  ANC                   501215 non-null  object \n",
            " 12  DISTRICT              500204 non-null  float64\n",
            " 13  PSA                   500148 non-null  float64\n",
            " 14  NEIGHBORHOOD_CLUSTER  496643 non-null  object \n",
            " 15  BLOCK_GROUP           500171 non-null  object \n",
            " 16  CENSUS_TRACT          500173 non-null  float64\n",
            " 17  VOTING_PRECINCT       501188 non-null  object \n",
            " 18  LATITUDE              501225 non-null  float64\n",
            " 19  LONGITUDE             501225 non-null  float64\n",
            " 20  BID                   86757 non-null   object \n",
            " 21  START_DATE            501197 non-null  object \n",
            " 22  END_DATE              471373 non-null  object \n",
            " 23  OBJECTID              501225 non-null  int64  \n",
            " 24  OCTO_RECORD_ID        0 non-null       float64\n",
            "dtypes: float64(11), int64(2), object(12)\n",
            "memory usage: 99.4+ MB\n",
            "None\n"
          ]
        }
      ]
    },
    {
      "cell_type": "code",
      "source": [
        "# Subset of the combined dataframe with only geographical info.\n",
        "\n",
        "df_location_geog = df_combine[[\"BLOCK\", \"XBLOCK\", \"YBLOCK\", \"WARD\", \"ANC\", \"DISTRICT\", \"PSA\", \"NEIGHBORHOOD_CLUSTER\", \"VOTING_PRECINCT\"]]"
      ],
      "metadata": {
        "id": "xl6cAdaZNkSi"
      },
      "execution_count": null,
      "outputs": []
    },
    {
      "cell_type": "code",
      "source": [
        "print(df_location_geog.info())"
      ],
      "metadata": {
        "colab": {
          "base_uri": "https://localhost:8080/"
        },
        "id": "Dr2n_e3Zkatp",
        "outputId": "a9b6cf38-b0b6-4236-b211-d057805fe488"
      },
      "execution_count": null,
      "outputs": [
        {
          "output_type": "stream",
          "name": "stdout",
          "text": [
            "<class 'pandas.core.frame.DataFrame'>\n",
            "Index: 501225 entries, 0 to 24534\n",
            "Data columns (total 9 columns):\n",
            " #   Column                Non-Null Count   Dtype  \n",
            "---  ------                --------------   -----  \n",
            " 0   BLOCK                 501223 non-null  object \n",
            " 1   XBLOCK                501225 non-null  float64\n",
            " 2   YBLOCK                501225 non-null  float64\n",
            " 3   WARD                  501192 non-null  float64\n",
            " 4   ANC                   501215 non-null  object \n",
            " 5   DISTRICT              500204 non-null  float64\n",
            " 6   PSA                   500148 non-null  float64\n",
            " 7   NEIGHBORHOOD_CLUSTER  496643 non-null  object \n",
            " 8   VOTING_PRECINCT       501188 non-null  object \n",
            "dtypes: float64(5), object(4)\n",
            "memory usage: 38.2+ MB\n",
            "None\n"
          ]
        }
      ]
    },
    {
      "cell_type": "code",
      "source": [
        "# Dropping null values\n",
        "\n",
        "df_location_geog_nonull = df_location_geog.dropna()"
      ],
      "metadata": {
        "id": "FseKeFEilFr5"
      },
      "execution_count": null,
      "outputs": []
    },
    {
      "cell_type": "code",
      "source": [
        "print(df_location_geog_nonull.info())"
      ],
      "metadata": {
        "colab": {
          "base_uri": "https://localhost:8080/"
        },
        "id": "usNMa1cVQXBb",
        "outputId": "0a0c2493-1297-4cec-fbf8-b45c37fb9c4b"
      },
      "execution_count": null,
      "outputs": [
        {
          "output_type": "stream",
          "name": "stdout",
          "text": [
            "<class 'pandas.core.frame.DataFrame'>\n",
            "Index: 495493 entries, 0 to 24534\n",
            "Data columns (total 9 columns):\n",
            " #   Column                Non-Null Count   Dtype  \n",
            "---  ------                --------------   -----  \n",
            " 0   BLOCK                 495493 non-null  object \n",
            " 1   XBLOCK                495493 non-null  float64\n",
            " 2   YBLOCK                495493 non-null  float64\n",
            " 3   WARD                  495493 non-null  float64\n",
            " 4   ANC                   495493 non-null  object \n",
            " 5   DISTRICT              495493 non-null  float64\n",
            " 6   PSA                   495493 non-null  float64\n",
            " 7   NEIGHBORHOOD_CLUSTER  495493 non-null  object \n",
            " 8   VOTING_PRECINCT       495493 non-null  object \n",
            "dtypes: float64(5), object(4)\n",
            "memory usage: 37.8+ MB\n",
            "None\n"
          ]
        }
      ]
    },
    {
      "cell_type": "code",
      "source": [
        "print(df_location_geog_nonull.groupby([\"BLOCK\", \"XBLOCK\", \"YBLOCK\"]).size())"
      ],
      "metadata": {
        "id": "Dm9KVBKKlXCJ",
        "colab": {
          "base_uri": "https://localhost:8080/"
        },
        "outputId": "78daab01-9e04-4ca2-f090-ce9a35bc388a"
      },
      "execution_count": null,
      "outputs": [
        {
          "output_type": "stream",
          "name": "stdout",
          "text": [
            "BLOCK                                 XBLOCK         YBLOCK       \n",
            "0 - 0 BLOCK OF BEACH DRIVE NW         395975.490000  144064.800000    1\n",
            "0 - 0 BLOCK OF BEAUVOIR ROAD NW       394142.000000  140284.000000    2\n",
            "0 - 0 BLOCK OF CEDAR DRIVE SE         400199.753694  131978.036696    1\n",
            "0 - 0 BLOCK OF CHAIN BRIDGE NW        390103.000000  140235.000000    1\n",
            "0 - 0 BLOCK OF CHEVY CHASE CIRCLE NW  393309.000000  144370.000000    2\n",
            "                                                                     ..\n",
            "YUMA STREET SE AND 1ST STREET SE      399489.000000  129363.000000    1\n",
            "YUMA STREET SE AND 8TH STREET SE      400465.000000  129355.000000    1\n",
            "YUMA STREET SE AND 9TH STREET SE      400749.000000  129435.000000    3\n",
            "YUMA STREET SE AND CONDON TERRACE SE  400064.000000  129363.000000    1\n",
            "                                      400064.910014  129363.300021    1\n",
            "Length: 26679, dtype: int64\n"
          ]
        }
      ]
    },
    {
      "cell_type": "code",
      "source": [
        "# Create a dictionary mapping (XBLOCK, YBLOCK) to BLOCK\n",
        "block_mapping = dict(zip(zip(df_location_geog_nonull[\"XBLOCK\"], df_location_geog_nonull[\"YBLOCK\"]), df_location_geog_nonull[\"BLOCK\"]))\n",
        "\n",
        "# Define a custom function to fill in the missing BLOCK values\n",
        "def fill_block(row):\n",
        "    if pd.isna(row[\"BLOCK\"]):  # If block is missing\n",
        "        return block_mapping.get((row[\"XBLOCK\"], row[\"YBLOCK\"]), row[\"BLOCK\"])\n",
        "    return row[\"BLOCK\"]\n",
        "\n",
        "# Apply the function to the 'block' column\n",
        "df_combine[\"BLOCK\"] = df_combine.apply(fill_block, axis=1)"
      ],
      "metadata": {
        "id": "J4Bopj0ZQ5Wt"
      },
      "execution_count": null,
      "outputs": []
    },
    {
      "cell_type": "code",
      "source": [
        "# Create a dictionary mapping (XBLOCK, YBLOCK) to WARD\n",
        "Ward_mapping = dict(zip(zip(df_location_geog_nonull[\"XBLOCK\"], df_location_geog_nonull[\"YBLOCK\"]), df_location_geog_nonull[\"WARD\"]))\n",
        "\n",
        "# Define a custom function to fill in the missing WARD values\n",
        "def fill_ward(row):\n",
        "    if pd.isna(row[\"WARD\"]):  # If block is missing\n",
        "        return Ward_mapping.get((row[\"XBLOCK\"], row[\"YBLOCK\"]), row[\"WARD\"])\n",
        "    return row[\"WARD\"]\n",
        "\n",
        "# Apply the function to the 'WARD' column\n",
        "df_combine[\"WARD\"] = df_combine.apply(fill_ward, axis=1)"
      ],
      "metadata": {
        "id": "bCHk-A2QqUtg"
      },
      "execution_count": null,
      "outputs": []
    },
    {
      "cell_type": "code",
      "source": [
        "# Create a dictionary mapping (XBLOCK, YBLOCK) to ANC\n",
        "ANC_mapping = dict(zip(zip(df_location_geog_nonull[\"XBLOCK\"], df_location_geog_nonull[\"YBLOCK\"]), df_location_geog_nonull[\"ANC\"]))\n",
        "\n",
        "# Define a custom function to fill in the missing ANC values\n",
        "def fill_anc(row):\n",
        "    if pd.isna(row[\"ANC\"]):  # If ANC is missing\n",
        "        return ANC_mapping.get((row[\"XBLOCK\"], row[\"YBLOCK\"]), row[\"ANC\"])\n",
        "    return row[\"ANC\"]\n",
        "\n",
        "# Apply the function to the 'ANC' column\n",
        "df_combine[\"ANC\"] = df_combine.apply(fill_anc, axis=1)"
      ],
      "metadata": {
        "id": "i5wmoSDArkOw"
      },
      "execution_count": null,
      "outputs": []
    },
    {
      "cell_type": "code",
      "source": [
        "# Create a dictionary mapping (BLOCK, XBLOCK, YBLOCK, WARD, ANC) to DISTRICT\n",
        "DISTRICT_mapping = dict(zip(zip(df_location_geog_nonull[\"BLOCK\"], df_location_geog_nonull[\"XBLOCK\"], df_location_geog_nonull[\"YBLOCK\"], df_location_geog_nonull[\"WARD\"], df_location_geog_nonull[\"ANC\"]), df_location_geog_nonull[\"DISTRICT\"]))\n",
        "\n",
        "# Define a custom function to fill in the missing DISTRICT values\n",
        "def fill_district(row):\n",
        "    if pd.isna(row[\"DISTRICT\"]):  # If DISTRICT is missing\n",
        "        return DISTRICT_mapping.get((row[\"BLOCK\"], row[\"XBLOCK\"], row[\"YBLOCK\"], row[\"WARD\"], row[\"ANC\"]), row[\"DISTRICT\"])\n",
        "    return row[\"DISTRICT\"]\n",
        "\n",
        "# Apply the function to the 'DISTRICT' column\n",
        "df_combine[\"DISTRICT\"] = df_combine.apply(fill_district, axis=1)"
      ],
      "metadata": {
        "id": "aZCEK9AnxE9S"
      },
      "execution_count": null,
      "outputs": []
    },
    {
      "cell_type": "code",
      "source": [
        "# Create a dictionary mapping (BLOCK, XBLOCK, YBLOCK, WARD, ANC, DISTRICT) to PSA\n",
        "PSA_mapping = dict(zip(zip(df_location_geog_nonull[\"BLOCK\"], df_location_geog_nonull[\"XBLOCK\"], df_location_geog_nonull[\"YBLOCK\"], df_location_geog_nonull[\"WARD\"], df_location_geog_nonull[\"ANC\"], df_location_geog_nonull[\"DISTRICT\"]), df_location_geog_nonull[\"PSA\"]))\n",
        "\n",
        "# Define a custom function to fill in the missing PSA values\n",
        "def fill_psa(row):\n",
        "    if pd.isna(row[\"PSA\"]):  # If PSA is missing\n",
        "        return PSA_mapping.get((row[\"BLOCK\"], row[\"XBLOCK\"], row[\"YBLOCK\"], row[\"WARD\"], row[\"ANC\"], row[\"DISTRICT\"]), row[\"PSA\"])\n",
        "    return row[\"PSA\"]\n",
        "\n",
        "# Apply the function to the 'PSA' column\n",
        "df_combine[\"PSA\"] = df_combine.apply(fill_psa, axis=1)"
      ],
      "metadata": {
        "id": "BHjYAq9zxwlx"
      },
      "execution_count": null,
      "outputs": []
    },
    {
      "cell_type": "code",
      "source": [
        "# Create a dictionary mapping (BLOCK, XBLOCK, YBLOCK, WARD, ANC, DISTRICT, PSA) to NEIGHBORHOOD_CLUSTER\n",
        "NEIGHBORHOOD_CLUSTER_mapping = dict(zip(zip(df_location_geog_nonull[\"BLOCK\"], df_location_geog_nonull[\"XBLOCK\"], df_location_geog_nonull[\"YBLOCK\"], df_location_geog_nonull[\"WARD\"], df_location_geog_nonull[\"ANC\"], df_location_geog_nonull[\"DISTRICT\"], df_location_geog_nonull[\"PSA\"]), df_location_geog_nonull[\"NEIGHBORHOOD_CLUSTER\"]))\n",
        "\n",
        "# Define a custom function to fill in the missing NEIGHBORHOOD_CLUSTER values\n",
        "def fill_ward(row):\n",
        "    if pd.isna(row[\"NEIGHBORHOOD_CLUSTER\"]):  # If NEIGHBORHOOD_CLUSTER is missing\n",
        "        return NEIGHBORHOOD_CLUSTER_mapping.get((row[\"BLOCK\"], row[\"XBLOCK\"], row[\"YBLOCK\"], row[\"WARD\"], row[\"ANC\"], row[\"DISTRICT\"], row[\"PSA\"]), row[\"NEIGHBORHOOD_CLUSTER\"])\n",
        "    return row[\"NEIGHBORHOOD_CLUSTER\"]\n",
        "\n",
        "# Apply the function to the 'NEIGHBORHOOD_CLUSTER' column\n",
        "df_combine[\"NEIGHBORHOOD_CLUSTER\"] = df_combine.apply(fill_ward, axis=1)"
      ],
      "metadata": {
        "id": "KoE4SveJx1Ib"
      },
      "execution_count": null,
      "outputs": []
    },
    {
      "cell_type": "code",
      "source": [
        "# Create a dictionary mapping (BLOCK, XBLOCK, YBLOCK, WARD, ANC, DISTRICT, PSA, NEIGHBORHOOD_CLUSTER) to VOTING_PRECINCT\n",
        "VOTING_PRECINCT_mapping = dict(zip(zip(df_location_geog_nonull[\"BLOCK\"], df_location_geog_nonull[\"XBLOCK\"], df_location_geog_nonull[\"YBLOCK\"], df_location_geog_nonull[\"WARD\"], df_location_geog_nonull[\"ANC\"], df_location_geog_nonull[\"DISTRICT\"], df_location_geog_nonull[\"PSA\"], df_location_geog_nonull[\"NEIGHBORHOOD_CLUSTER\"]), df_location_geog_nonull[\"VOTING_PRECINCT\"]))\n",
        "\n",
        "# Define a custom function to fill in the missing VOTING_PRECINCT values\n",
        "def fill_ward(row):\n",
        "    if pd.isna(row[\"VOTING_PRECINCT\"]):  # If VOTING_PRECINCT is missing\n",
        "        return VOTING_PRECINCT_mapping.get((row[\"BLOCK\"], row[\"XBLOCK\"], row[\"YBLOCK\"], row[\"WARD\"], row[\"ANC\"], row[\"DISTRICT\"], row[\"PSA\"], row[\"NEIGHBORHOOD_CLUSTER\"]), row[\"VOTING_PRECINCT\"])\n",
        "    return row[\"VOTING_PRECINCT\"]\n",
        "\n",
        "# Apply the function to the 'VOTING_PRECINCT' column\n",
        "df_combine[\"VOTING_PRECINCT\"] = df_combine.apply(fill_ward, axis=1)"
      ],
      "metadata": {
        "id": "GpRABC5LxigB"
      },
      "execution_count": null,
      "outputs": []
    },
    {
      "cell_type": "code",
      "source": [
        "print(df_combine.info())"
      ],
      "metadata": {
        "colab": {
          "base_uri": "https://localhost:8080/"
        },
        "id": "OwG9TBMLrKWf",
        "outputId": "7e1e0b87-adf4-42d4-b5c8-10e6a1cb1999"
      },
      "execution_count": null,
      "outputs": [
        {
          "output_type": "stream",
          "name": "stdout",
          "text": [
            "<class 'pandas.core.frame.DataFrame'>\n",
            "Index: 501225 entries, 0 to 24534\n",
            "Data columns (total 25 columns):\n",
            " #   Column                Non-Null Count   Dtype  \n",
            "---  ------                --------------   -----  \n",
            " 0   X                     501225 non-null  float64\n",
            " 1   Y                     501225 non-null  float64\n",
            " 2   CCN                   501225 non-null  int64  \n",
            " 3   REPORT_DAT            501225 non-null  object \n",
            " 4   SHIFT                 501225 non-null  object \n",
            " 5   METHOD                501225 non-null  object \n",
            " 6   OFFENSE               501225 non-null  object \n",
            " 7   BLOCK                 501224 non-null  object \n",
            " 8   XBLOCK                501225 non-null  float64\n",
            " 9   YBLOCK                501225 non-null  float64\n",
            " 10  WARD                  501225 non-null  float64\n",
            " 11  ANC                   501225 non-null  object \n",
            " 12  DISTRICT              501186 non-null  float64\n",
            " 13  PSA                   501178 non-null  float64\n",
            " 14  NEIGHBORHOOD_CLUSTER  499629 non-null  object \n",
            " 15  BLOCK_GROUP           500171 non-null  object \n",
            " 16  CENSUS_TRACT          500173 non-null  float64\n",
            " 17  VOTING_PRECINCT       501208 non-null  object \n",
            " 18  LATITUDE              501225 non-null  float64\n",
            " 19  LONGITUDE             501225 non-null  float64\n",
            " 20  BID                   86757 non-null   object \n",
            " 21  START_DATE            501197 non-null  object \n",
            " 22  END_DATE              471373 non-null  object \n",
            " 23  OBJECTID              501225 non-null  int64  \n",
            " 24  OCTO_RECORD_ID        0 non-null       float64\n",
            "dtypes: float64(11), int64(2), object(12)\n",
            "memory usage: 99.4+ MB\n",
            "None\n"
          ]
        }
      ]
    },
    {
      "cell_type": "code",
      "source": [
        "# Dropping columns that we do not need\n",
        "\n",
        "df_combine.drop(\"X\", axis=1, inplace=True)\n",
        "df_combine.drop(\"Y\", axis=1, inplace=True)\n",
        "df_combine.drop(\"CCN\", axis=1, inplace=True)\n",
        "df_combine.drop(\"XBLOCK\", axis=1, inplace=True)\n",
        "df_combine.drop(\"YBLOCK\", axis=1, inplace=True)\n",
        "df_combine.drop(\"NEIGHBORHOOD_CLUSTER\", axis=1, inplace=True)\n",
        "df_combine.drop(\"BLOCK_GROUP\", axis=1, inplace=True)\n",
        "df_combine.drop(\"CENSUS_TRACT\", axis=1, inplace=True)\n",
        "df_combine.drop(\"BID\", axis=1, inplace=True)\n",
        "df_combine.drop(\"START_DATE\", axis=1, inplace=True)\n",
        "df_combine.drop(\"END_DATE\", axis=1, inplace=True)\n",
        "df_combine.drop(\"OBJECTID\", axis=1, inplace=True)\n",
        "df_combine.drop(\"OCTO_RECORD_ID\", axis=1, inplace=True)\n"
      ],
      "metadata": {
        "id": "oBdxAFTLqc70"
      },
      "execution_count": null,
      "outputs": []
    },
    {
      "cell_type": "code",
      "source": [
        "print(df_combine.info())"
      ],
      "metadata": {
        "colab": {
          "base_uri": "https://localhost:8080/"
        },
        "id": "331oxQlAqqH6",
        "outputId": "b738a908-e050-443f-9b21-b34b34ebb7f9"
      },
      "execution_count": null,
      "outputs": [
        {
          "output_type": "stream",
          "name": "stdout",
          "text": [
            "<class 'pandas.core.frame.DataFrame'>\n",
            "Index: 501225 entries, 0 to 24534\n",
            "Data columns (total 12 columns):\n",
            " #   Column           Non-Null Count   Dtype  \n",
            "---  ------           --------------   -----  \n",
            " 0   REPORT_DAT       501225 non-null  object \n",
            " 1   SHIFT            501225 non-null  object \n",
            " 2   METHOD           501225 non-null  object \n",
            " 3   OFFENSE          501225 non-null  object \n",
            " 4   BLOCK            501224 non-null  object \n",
            " 5   WARD             501225 non-null  float64\n",
            " 6   ANC              501225 non-null  object \n",
            " 7   DISTRICT         501186 non-null  float64\n",
            " 8   PSA              501178 non-null  float64\n",
            " 9   VOTING_PRECINCT  501208 non-null  object \n",
            " 10  LATITUDE         501225 non-null  float64\n",
            " 11  LONGITUDE        501225 non-null  float64\n",
            "dtypes: float64(5), object(7)\n",
            "memory usage: 49.7+ MB\n",
            "None\n"
          ]
        }
      ]
    },
    {
      "cell_type": "code",
      "source": [
        "# dropping rows with null values\n",
        "\n",
        "df_final = df_combine.dropna()"
      ],
      "metadata": {
        "id": "40Gqfv39MPrr"
      },
      "execution_count": null,
      "outputs": []
    },
    {
      "cell_type": "code",
      "source": [
        "print(df_final.info())"
      ],
      "metadata": {
        "colab": {
          "base_uri": "https://localhost:8080/"
        },
        "id": "og0TssYT6adh",
        "outputId": "112a71d8-115a-49ae-e128-27033ab07dde"
      },
      "execution_count": null,
      "outputs": [
        {
          "output_type": "stream",
          "name": "stdout",
          "text": [
            "<class 'pandas.core.frame.DataFrame'>\n",
            "Index: 501158 entries, 0 to 24534\n",
            "Data columns (total 12 columns):\n",
            " #   Column           Non-Null Count   Dtype  \n",
            "---  ------           --------------   -----  \n",
            " 0   REPORT_DAT       501158 non-null  object \n",
            " 1   SHIFT            501158 non-null  object \n",
            " 2   METHOD           501158 non-null  object \n",
            " 3   OFFENSE          501158 non-null  object \n",
            " 4   BLOCK            501158 non-null  object \n",
            " 5   WARD             501158 non-null  float64\n",
            " 6   ANC              501158 non-null  object \n",
            " 7   DISTRICT         501158 non-null  float64\n",
            " 8   PSA              501158 non-null  float64\n",
            " 9   VOTING_PRECINCT  501158 non-null  object \n",
            " 10  LATITUDE         501158 non-null  float64\n",
            " 11  LONGITUDE        501158 non-null  float64\n",
            "dtypes: float64(5), object(7)\n",
            "memory usage: 49.7+ MB\n",
            "None\n"
          ]
        }
      ]
    },
    {
      "cell_type": "code",
      "source": [
        "print(df_final[\"REPORT_DAT\"].head(10))"
      ],
      "metadata": {
        "id": "6ZcacsER8pJQ",
        "colab": {
          "base_uri": "https://localhost:8080/"
        },
        "outputId": "b95ac6ff-775a-4bc1-f895-13618f805417"
      },
      "execution_count": null,
      "outputs": [
        {
          "output_type": "stream",
          "name": "stdout",
          "text": [
            "0    2008/12/12 22:00:00+00\n",
            "1    2008/12/12 21:45:00+00\n",
            "2    2008/12/12 21:28:00+00\n",
            "3    2008/12/13 00:50:00+00\n",
            "4    2008/12/12 22:00:00+00\n",
            "5    2008/12/12 22:42:00+00\n",
            "6    2008/12/12 23:22:00+00\n",
            "7    2008/12/17 16:50:00+00\n",
            "8    2008/12/17 16:00:00+00\n",
            "9    2008/12/17 17:55:00+00\n",
            "Name: REPORT_DAT, dtype: object\n"
          ]
        }
      ]
    },
    {
      "cell_type": "code",
      "source": [
        "# Splitting REPORT_DAT into Year, Month, Day, Hour and Minute\n",
        "\n",
        "df_final[\"YEAR\"] = df_final[\"REPORT_DAT\"].str[0:4]\n",
        "df_final[\"MONTH\"] = df_final[\"REPORT_DAT\"].str[5:7]\n",
        "df_final[\"DAY\"] = df_final[\"REPORT_DAT\"].str[8:10]\n",
        "df_final[\"HOUR\"] = df_final[\"REPORT_DAT\"].str[11:13]\n",
        "df_final[\"MINUTE\"] = df_final[\"REPORT_DAT\"].str[14:16]"
      ],
      "metadata": {
        "colab": {
          "base_uri": "https://localhost:8080/"
        },
        "id": "yAs041nnOTbn",
        "outputId": "4c303500-cba1-47fc-c3ca-5894190c8681"
      },
      "execution_count": null,
      "outputs": [
        {
          "output_type": "stream",
          "name": "stderr",
          "text": [
            "<ipython-input-33-b5a1cbba05c2>:3: SettingWithCopyWarning: \n",
            "A value is trying to be set on a copy of a slice from a DataFrame.\n",
            "Try using .loc[row_indexer,col_indexer] = value instead\n",
            "\n",
            "See the caveats in the documentation: https://pandas.pydata.org/pandas-docs/stable/user_guide/indexing.html#returning-a-view-versus-a-copy\n",
            "  df_final[\"YEAR\"] = df_final[\"REPORT_DAT\"].str[0:4]\n",
            "<ipython-input-33-b5a1cbba05c2>:4: SettingWithCopyWarning: \n",
            "A value is trying to be set on a copy of a slice from a DataFrame.\n",
            "Try using .loc[row_indexer,col_indexer] = value instead\n",
            "\n",
            "See the caveats in the documentation: https://pandas.pydata.org/pandas-docs/stable/user_guide/indexing.html#returning-a-view-versus-a-copy\n",
            "  df_final[\"MONTH\"] = df_final[\"REPORT_DAT\"].str[5:7]\n",
            "<ipython-input-33-b5a1cbba05c2>:5: SettingWithCopyWarning: \n",
            "A value is trying to be set on a copy of a slice from a DataFrame.\n",
            "Try using .loc[row_indexer,col_indexer] = value instead\n",
            "\n",
            "See the caveats in the documentation: https://pandas.pydata.org/pandas-docs/stable/user_guide/indexing.html#returning-a-view-versus-a-copy\n",
            "  df_final[\"DAY\"] = df_final[\"REPORT_DAT\"].str[8:10]\n",
            "<ipython-input-33-b5a1cbba05c2>:6: SettingWithCopyWarning: \n",
            "A value is trying to be set on a copy of a slice from a DataFrame.\n",
            "Try using .loc[row_indexer,col_indexer] = value instead\n",
            "\n",
            "See the caveats in the documentation: https://pandas.pydata.org/pandas-docs/stable/user_guide/indexing.html#returning-a-view-versus-a-copy\n",
            "  df_final[\"HOUR\"] = df_final[\"REPORT_DAT\"].str[11:13]\n",
            "<ipython-input-33-b5a1cbba05c2>:7: SettingWithCopyWarning: \n",
            "A value is trying to be set on a copy of a slice from a DataFrame.\n",
            "Try using .loc[row_indexer,col_indexer] = value instead\n",
            "\n",
            "See the caveats in the documentation: https://pandas.pydata.org/pandas-docs/stable/user_guide/indexing.html#returning-a-view-versus-a-copy\n",
            "  df_final[\"MINUTE\"] = df_final[\"REPORT_DAT\"].str[14:16]\n"
          ]
        }
      ]
    },
    {
      "cell_type": "code",
      "source": [
        "print(df_final.info())"
      ],
      "metadata": {
        "colab": {
          "base_uri": "https://localhost:8080/"
        },
        "id": "jwA0ei0nOdgO",
        "outputId": "499aa6eb-c626-4a6f-81e0-d27c76673f89"
      },
      "execution_count": null,
      "outputs": [
        {
          "output_type": "stream",
          "name": "stdout",
          "text": [
            "<class 'pandas.core.frame.DataFrame'>\n",
            "Index: 501158 entries, 0 to 24534\n",
            "Data columns (total 17 columns):\n",
            " #   Column           Non-Null Count   Dtype  \n",
            "---  ------           --------------   -----  \n",
            " 0   REPORT_DAT       501158 non-null  object \n",
            " 1   SHIFT            501158 non-null  object \n",
            " 2   METHOD           501158 non-null  object \n",
            " 3   OFFENSE          501158 non-null  object \n",
            " 4   BLOCK            501158 non-null  object \n",
            " 5   WARD             501158 non-null  float64\n",
            " 6   ANC              501158 non-null  object \n",
            " 7   DISTRICT         501158 non-null  float64\n",
            " 8   PSA              501158 non-null  float64\n",
            " 9   VOTING_PRECINCT  501158 non-null  object \n",
            " 10  LATITUDE         501158 non-null  float64\n",
            " 11  LONGITUDE        501158 non-null  float64\n",
            " 12  YEAR             501158 non-null  object \n",
            " 13  MONTH            501158 non-null  object \n",
            " 14  DAY              501158 non-null  object \n",
            " 15  HOUR             501158 non-null  object \n",
            " 16  MINUTE           501158 non-null  object \n",
            "dtypes: float64(5), object(12)\n",
            "memory usage: 68.8+ MB\n",
            "None\n"
          ]
        }
      ]
    },
    {
      "cell_type": "code",
      "source": [
        "df_final.drop(\"REPORT_DAT\", axis=1, inplace=True)"
      ],
      "metadata": {
        "colab": {
          "base_uri": "https://localhost:8080/"
        },
        "id": "o7sEtiiCSax4",
        "outputId": "cae097fd-647a-484f-a43a-a4ebb87181b7"
      },
      "execution_count": null,
      "outputs": [
        {
          "output_type": "stream",
          "name": "stderr",
          "text": [
            "<ipython-input-35-e8881dffa3c8>:1: SettingWithCopyWarning: \n",
            "A value is trying to be set on a copy of a slice from a DataFrame\n",
            "\n",
            "See the caveats in the documentation: https://pandas.pydata.org/pandas-docs/stable/user_guide/indexing.html#returning-a-view-versus-a-copy\n",
            "  df_final.drop(\"REPORT_DAT\", axis=1, inplace=True)\n"
          ]
        }
      ]
    },
    {
      "cell_type": "code",
      "source": [
        "# Rearranging Columns\n",
        "\n",
        "df_final = df_final[[\"YEAR\", \"MONTH\", \"DAY\", \"HOUR\", \"MINUTE\", \"SHIFT\", \"METHOD\", \"OFFENSE\", \"BLOCK\", \"WARD\", \"ANC\", \"DISTRICT\", \"PSA\", \"VOTING_PRECINCT\", \"LATITUDE\", \"LONGITUDE\"]]"
      ],
      "metadata": {
        "id": "nBwDAl00PJzA"
      },
      "execution_count": null,
      "outputs": []
    },
    {
      "cell_type": "code",
      "source": [
        "print(df_final.info())"
      ],
      "metadata": {
        "colab": {
          "base_uri": "https://localhost:8080/"
        },
        "id": "E1htKpysPwlH",
        "outputId": "98e086fb-306a-48f9-ec9b-58d6f88229db"
      },
      "execution_count": null,
      "outputs": [
        {
          "output_type": "stream",
          "name": "stdout",
          "text": [
            "<class 'pandas.core.frame.DataFrame'>\n",
            "Index: 501158 entries, 0 to 24534\n",
            "Data columns (total 16 columns):\n",
            " #   Column           Non-Null Count   Dtype  \n",
            "---  ------           --------------   -----  \n",
            " 0   YEAR             501158 non-null  object \n",
            " 1   MONTH            501158 non-null  object \n",
            " 2   DAY              501158 non-null  object \n",
            " 3   HOUR             501158 non-null  object \n",
            " 4   MINUTE           501158 non-null  object \n",
            " 5   SHIFT            501158 non-null  object \n",
            " 6   METHOD           501158 non-null  object \n",
            " 7   OFFENSE          501158 non-null  object \n",
            " 8   BLOCK            501158 non-null  object \n",
            " 9   WARD             501158 non-null  float64\n",
            " 10  ANC              501158 non-null  object \n",
            " 11  DISTRICT         501158 non-null  float64\n",
            " 12  PSA              501158 non-null  float64\n",
            " 13  VOTING_PRECINCT  501158 non-null  object \n",
            " 14  LATITUDE         501158 non-null  float64\n",
            " 15  LONGITUDE        501158 non-null  float64\n",
            "dtypes: float64(5), object(11)\n",
            "memory usage: 65.0+ MB\n",
            "None\n"
          ]
        }
      ]
    },
    {
      "cell_type": "code",
      "source": [
        "df_final.head(10)"
      ],
      "metadata": {
        "colab": {
          "base_uri": "https://localhost:8080/"
        },
        "id": "vE_dod6zR74o",
        "outputId": "995455ba-223a-4d2e-d8f2-3df245743be8"
      },
      "execution_count": null,
      "outputs": [
        {
          "output_type": "execute_result",
          "data": {
            "text/plain": [
              "   YEAR MONTH DAY HOUR MINUTE    SHIFT  METHOD                     OFFENSE  \\\n",
              "0  2008    12  12   22     00  EVENING  OTHERS                 THEFT/OTHER   \n",
              "1  2008    12  12   21     45  EVENING  OTHERS  ASSAULT W/DANGEROUS WEAPON   \n",
              "2  2008    12  12   21     28  EVENING  OTHERS                 THEFT/OTHER   \n",
              "3  2008    12  13   00     50  EVENING  OTHERS                 THEFT/OTHER   \n",
              "4  2008    12  12   22     00  EVENING  OTHERS                 THEFT/OTHER   \n",
              "5  2008    12  12   22     42  EVENING  OTHERS                 THEFT/OTHER   \n",
              "6  2008    12  12   23     22  EVENING  OTHERS                     ROBBERY   \n",
              "7  2008    12  17   16     50      DAY  OTHERS         MOTOR VEHICLE THEFT   \n",
              "8  2008    12  17   16     00      DAY  OTHERS                    BURGLARY   \n",
              "9  2008    12  17   17     55      DAY  OTHERS                 THEFT/OTHER   \n",
              "\n",
              "                                         BLOCK  WARD ANC  DISTRICT    PSA  \\\n",
              "0  2800 - 2821 BLOCK OF PENNSYLVANIA AVENUE SE   7.0  7B       6.0  605.0   \n",
              "1           3301 - 3699 BLOCK OF 6TH STREET SE   8.0  8C       7.0  705.0   \n",
              "2             1600 - 1699 BLOCK OF L STREET NW   2.0  2B       2.0  207.0   \n",
              "3       1200  - 1299 BLOCK OF TAYLOR STREET NW   4.0  4C       4.0  404.0   \n",
              "4          2400 - 2499 BLOCK OF 18TH STREET NW   1.0  1C       3.0  303.0   \n",
              "5            200 - 299 BLOCK OF 10TH STREET NE   6.0  6A       1.0  108.0   \n",
              "6        1601 - 1699 BLOCK OF ARGONNE PLACE NW   1.0  1C       3.0  303.0   \n",
              "7             500 - 599 BLOCK OF 23RD PLACE NE   7.0  7D       5.0  507.0   \n",
              "8        1100 - 1199 BLOCK OF VARNEY STREET SE   8.0  8E       7.0  706.0   \n",
              "9          5700  - 5717 BLOCK OF 5TH STREET NW   4.0  4B       4.0  402.0   \n",
              "\n",
              "  VOTING_PRECINCT   LATITUDE  LONGITUDE  \n",
              "0    Precinct 111  38.872067 -76.967204  \n",
              "1    Precinct 122  38.839713 -76.998457  \n",
              "2     Precinct 17  38.903739 -77.037526  \n",
              "3     Precinct 47  38.940802 -77.028226  \n",
              "4     Precinct 25  38.921619 -77.042367  \n",
              "5     Precinct 85  38.892790 -76.992657  \n",
              "6     Precinct 35  38.926466 -77.038403  \n",
              "7     Precinct 80  38.897202 -76.973382  \n",
              "8    Precinct 121  38.836199 -76.988712  \n",
              "9     Precinct 58  38.959090 -77.019903  "
            ],
            "text/html": [
              "\n",
              "  <div id=\"df-8339d8b6-7c19-41cc-8d50-18fabc657ed4\" class=\"colab-df-container\">\n",
              "    <div>\n",
              "<style scoped>\n",
              "    .dataframe tbody tr th:only-of-type {\n",
              "        vertical-align: middle;\n",
              "    }\n",
              "\n",
              "    .dataframe tbody tr th {\n",
              "        vertical-align: top;\n",
              "    }\n",
              "\n",
              "    .dataframe thead th {\n",
              "        text-align: right;\n",
              "    }\n",
              "</style>\n",
              "<table border=\"1\" class=\"dataframe\">\n",
              "  <thead>\n",
              "    <tr style=\"text-align: right;\">\n",
              "      <th></th>\n",
              "      <th>YEAR</th>\n",
              "      <th>MONTH</th>\n",
              "      <th>DAY</th>\n",
              "      <th>HOUR</th>\n",
              "      <th>MINUTE</th>\n",
              "      <th>SHIFT</th>\n",
              "      <th>METHOD</th>\n",
              "      <th>OFFENSE</th>\n",
              "      <th>BLOCK</th>\n",
              "      <th>WARD</th>\n",
              "      <th>ANC</th>\n",
              "      <th>DISTRICT</th>\n",
              "      <th>PSA</th>\n",
              "      <th>VOTING_PRECINCT</th>\n",
              "      <th>LATITUDE</th>\n",
              "      <th>LONGITUDE</th>\n",
              "    </tr>\n",
              "  </thead>\n",
              "  <tbody>\n",
              "    <tr>\n",
              "      <th>0</th>\n",
              "      <td>2008</td>\n",
              "      <td>12</td>\n",
              "      <td>12</td>\n",
              "      <td>22</td>\n",
              "      <td>00</td>\n",
              "      <td>EVENING</td>\n",
              "      <td>OTHERS</td>\n",
              "      <td>THEFT/OTHER</td>\n",
              "      <td>2800 - 2821 BLOCK OF PENNSYLVANIA AVENUE SE</td>\n",
              "      <td>7.0</td>\n",
              "      <td>7B</td>\n",
              "      <td>6.0</td>\n",
              "      <td>605.0</td>\n",
              "      <td>Precinct 111</td>\n",
              "      <td>38.872067</td>\n",
              "      <td>-76.967204</td>\n",
              "    </tr>\n",
              "    <tr>\n",
              "      <th>1</th>\n",
              "      <td>2008</td>\n",
              "      <td>12</td>\n",
              "      <td>12</td>\n",
              "      <td>21</td>\n",
              "      <td>45</td>\n",
              "      <td>EVENING</td>\n",
              "      <td>OTHERS</td>\n",
              "      <td>ASSAULT W/DANGEROUS WEAPON</td>\n",
              "      <td>3301 - 3699 BLOCK OF 6TH STREET SE</td>\n",
              "      <td>8.0</td>\n",
              "      <td>8C</td>\n",
              "      <td>7.0</td>\n",
              "      <td>705.0</td>\n",
              "      <td>Precinct 122</td>\n",
              "      <td>38.839713</td>\n",
              "      <td>-76.998457</td>\n",
              "    </tr>\n",
              "    <tr>\n",
              "      <th>2</th>\n",
              "      <td>2008</td>\n",
              "      <td>12</td>\n",
              "      <td>12</td>\n",
              "      <td>21</td>\n",
              "      <td>28</td>\n",
              "      <td>EVENING</td>\n",
              "      <td>OTHERS</td>\n",
              "      <td>THEFT/OTHER</td>\n",
              "      <td>1600 - 1699 BLOCK OF L STREET NW</td>\n",
              "      <td>2.0</td>\n",
              "      <td>2B</td>\n",
              "      <td>2.0</td>\n",
              "      <td>207.0</td>\n",
              "      <td>Precinct 17</td>\n",
              "      <td>38.903739</td>\n",
              "      <td>-77.037526</td>\n",
              "    </tr>\n",
              "    <tr>\n",
              "      <th>3</th>\n",
              "      <td>2008</td>\n",
              "      <td>12</td>\n",
              "      <td>13</td>\n",
              "      <td>00</td>\n",
              "      <td>50</td>\n",
              "      <td>EVENING</td>\n",
              "      <td>OTHERS</td>\n",
              "      <td>THEFT/OTHER</td>\n",
              "      <td>1200  - 1299 BLOCK OF TAYLOR STREET NW</td>\n",
              "      <td>4.0</td>\n",
              "      <td>4C</td>\n",
              "      <td>4.0</td>\n",
              "      <td>404.0</td>\n",
              "      <td>Precinct 47</td>\n",
              "      <td>38.940802</td>\n",
              "      <td>-77.028226</td>\n",
              "    </tr>\n",
              "    <tr>\n",
              "      <th>4</th>\n",
              "      <td>2008</td>\n",
              "      <td>12</td>\n",
              "      <td>12</td>\n",
              "      <td>22</td>\n",
              "      <td>00</td>\n",
              "      <td>EVENING</td>\n",
              "      <td>OTHERS</td>\n",
              "      <td>THEFT/OTHER</td>\n",
              "      <td>2400 - 2499 BLOCK OF 18TH STREET NW</td>\n",
              "      <td>1.0</td>\n",
              "      <td>1C</td>\n",
              "      <td>3.0</td>\n",
              "      <td>303.0</td>\n",
              "      <td>Precinct 25</td>\n",
              "      <td>38.921619</td>\n",
              "      <td>-77.042367</td>\n",
              "    </tr>\n",
              "    <tr>\n",
              "      <th>5</th>\n",
              "      <td>2008</td>\n",
              "      <td>12</td>\n",
              "      <td>12</td>\n",
              "      <td>22</td>\n",
              "      <td>42</td>\n",
              "      <td>EVENING</td>\n",
              "      <td>OTHERS</td>\n",
              "      <td>THEFT/OTHER</td>\n",
              "      <td>200 - 299 BLOCK OF 10TH STREET NE</td>\n",
              "      <td>6.0</td>\n",
              "      <td>6A</td>\n",
              "      <td>1.0</td>\n",
              "      <td>108.0</td>\n",
              "      <td>Precinct 85</td>\n",
              "      <td>38.892790</td>\n",
              "      <td>-76.992657</td>\n",
              "    </tr>\n",
              "    <tr>\n",
              "      <th>6</th>\n",
              "      <td>2008</td>\n",
              "      <td>12</td>\n",
              "      <td>12</td>\n",
              "      <td>23</td>\n",
              "      <td>22</td>\n",
              "      <td>EVENING</td>\n",
              "      <td>OTHERS</td>\n",
              "      <td>ROBBERY</td>\n",
              "      <td>1601 - 1699 BLOCK OF ARGONNE PLACE NW</td>\n",
              "      <td>1.0</td>\n",
              "      <td>1C</td>\n",
              "      <td>3.0</td>\n",
              "      <td>303.0</td>\n",
              "      <td>Precinct 35</td>\n",
              "      <td>38.926466</td>\n",
              "      <td>-77.038403</td>\n",
              "    </tr>\n",
              "    <tr>\n",
              "      <th>7</th>\n",
              "      <td>2008</td>\n",
              "      <td>12</td>\n",
              "      <td>17</td>\n",
              "      <td>16</td>\n",
              "      <td>50</td>\n",
              "      <td>DAY</td>\n",
              "      <td>OTHERS</td>\n",
              "      <td>MOTOR VEHICLE THEFT</td>\n",
              "      <td>500 - 599 BLOCK OF 23RD PLACE NE</td>\n",
              "      <td>7.0</td>\n",
              "      <td>7D</td>\n",
              "      <td>5.0</td>\n",
              "      <td>507.0</td>\n",
              "      <td>Precinct 80</td>\n",
              "      <td>38.897202</td>\n",
              "      <td>-76.973382</td>\n",
              "    </tr>\n",
              "    <tr>\n",
              "      <th>8</th>\n",
              "      <td>2008</td>\n",
              "      <td>12</td>\n",
              "      <td>17</td>\n",
              "      <td>16</td>\n",
              "      <td>00</td>\n",
              "      <td>DAY</td>\n",
              "      <td>OTHERS</td>\n",
              "      <td>BURGLARY</td>\n",
              "      <td>1100 - 1199 BLOCK OF VARNEY STREET SE</td>\n",
              "      <td>8.0</td>\n",
              "      <td>8E</td>\n",
              "      <td>7.0</td>\n",
              "      <td>706.0</td>\n",
              "      <td>Precinct 121</td>\n",
              "      <td>38.836199</td>\n",
              "      <td>-76.988712</td>\n",
              "    </tr>\n",
              "    <tr>\n",
              "      <th>9</th>\n",
              "      <td>2008</td>\n",
              "      <td>12</td>\n",
              "      <td>17</td>\n",
              "      <td>17</td>\n",
              "      <td>55</td>\n",
              "      <td>DAY</td>\n",
              "      <td>OTHERS</td>\n",
              "      <td>THEFT/OTHER</td>\n",
              "      <td>5700  - 5717 BLOCK OF 5TH STREET NW</td>\n",
              "      <td>4.0</td>\n",
              "      <td>4B</td>\n",
              "      <td>4.0</td>\n",
              "      <td>402.0</td>\n",
              "      <td>Precinct 58</td>\n",
              "      <td>38.959090</td>\n",
              "      <td>-77.019903</td>\n",
              "    </tr>\n",
              "  </tbody>\n",
              "</table>\n",
              "</div>\n",
              "    <div class=\"colab-df-buttons\">\n",
              "\n",
              "  <div class=\"colab-df-container\">\n",
              "    <button class=\"colab-df-convert\" onclick=\"convertToInteractive('df-8339d8b6-7c19-41cc-8d50-18fabc657ed4')\"\n",
              "            title=\"Convert this dataframe to an interactive table.\"\n",
              "            style=\"display:none;\">\n",
              "\n",
              "  <svg xmlns=\"http://www.w3.org/2000/svg\" height=\"24px\" viewBox=\"0 -960 960 960\">\n",
              "    <path d=\"M120-120v-720h720v720H120Zm60-500h600v-160H180v160Zm220 220h160v-160H400v160Zm0 220h160v-160H400v160ZM180-400h160v-160H180v160Zm440 0h160v-160H620v160ZM180-180h160v-160H180v160Zm440 0h160v-160H620v160Z\"/>\n",
              "  </svg>\n",
              "    </button>\n",
              "\n",
              "  <style>\n",
              "    .colab-df-container {\n",
              "      display:flex;\n",
              "      gap: 12px;\n",
              "    }\n",
              "\n",
              "    .colab-df-convert {\n",
              "      background-color: #E8F0FE;\n",
              "      border: none;\n",
              "      border-radius: 50%;\n",
              "      cursor: pointer;\n",
              "      display: none;\n",
              "      fill: #1967D2;\n",
              "      height: 32px;\n",
              "      padding: 0 0 0 0;\n",
              "      width: 32px;\n",
              "    }\n",
              "\n",
              "    .colab-df-convert:hover {\n",
              "      background-color: #E2EBFA;\n",
              "      box-shadow: 0px 1px 2px rgba(60, 64, 67, 0.3), 0px 1px 3px 1px rgba(60, 64, 67, 0.15);\n",
              "      fill: #174EA6;\n",
              "    }\n",
              "\n",
              "    .colab-df-buttons div {\n",
              "      margin-bottom: 4px;\n",
              "    }\n",
              "\n",
              "    [theme=dark] .colab-df-convert {\n",
              "      background-color: #3B4455;\n",
              "      fill: #D2E3FC;\n",
              "    }\n",
              "\n",
              "    [theme=dark] .colab-df-convert:hover {\n",
              "      background-color: #434B5C;\n",
              "      box-shadow: 0px 1px 3px 1px rgba(0, 0, 0, 0.15);\n",
              "      filter: drop-shadow(0px 1px 2px rgba(0, 0, 0, 0.3));\n",
              "      fill: #FFFFFF;\n",
              "    }\n",
              "  </style>\n",
              "\n",
              "    <script>\n",
              "      const buttonEl =\n",
              "        document.querySelector('#df-8339d8b6-7c19-41cc-8d50-18fabc657ed4 button.colab-df-convert');\n",
              "      buttonEl.style.display =\n",
              "        google.colab.kernel.accessAllowed ? 'block' : 'none';\n",
              "\n",
              "      async function convertToInteractive(key) {\n",
              "        const element = document.querySelector('#df-8339d8b6-7c19-41cc-8d50-18fabc657ed4');\n",
              "        const dataTable =\n",
              "          await google.colab.kernel.invokeFunction('convertToInteractive',\n",
              "                                                    [key], {});\n",
              "        if (!dataTable) return;\n",
              "\n",
              "        const docLinkHtml = 'Like what you see? Visit the ' +\n",
              "          '<a target=\"_blank\" href=https://colab.research.google.com/notebooks/data_table.ipynb>data table notebook</a>'\n",
              "          + ' to learn more about interactive tables.';\n",
              "        element.innerHTML = '';\n",
              "        dataTable['output_type'] = 'display_data';\n",
              "        await google.colab.output.renderOutput(dataTable, element);\n",
              "        const docLink = document.createElement('div');\n",
              "        docLink.innerHTML = docLinkHtml;\n",
              "        element.appendChild(docLink);\n",
              "      }\n",
              "    </script>\n",
              "  </div>\n",
              "\n",
              "\n",
              "<div id=\"df-558705d3-4480-4eb4-ab5a-d5891a0e4e62\">\n",
              "  <button class=\"colab-df-quickchart\" onclick=\"quickchart('df-558705d3-4480-4eb4-ab5a-d5891a0e4e62')\"\n",
              "            title=\"Suggest charts\"\n",
              "            style=\"display:none;\">\n",
              "\n",
              "<svg xmlns=\"http://www.w3.org/2000/svg\" height=\"24px\"viewBox=\"0 0 24 24\"\n",
              "     width=\"24px\">\n",
              "    <g>\n",
              "        <path d=\"M19 3H5c-1.1 0-2 .9-2 2v14c0 1.1.9 2 2 2h14c1.1 0 2-.9 2-2V5c0-1.1-.9-2-2-2zM9 17H7v-7h2v7zm4 0h-2V7h2v10zm4 0h-2v-4h2v4z\"/>\n",
              "    </g>\n",
              "</svg>\n",
              "  </button>\n",
              "\n",
              "<style>\n",
              "  .colab-df-quickchart {\n",
              "      --bg-color: #E8F0FE;\n",
              "      --fill-color: #1967D2;\n",
              "      --hover-bg-color: #E2EBFA;\n",
              "      --hover-fill-color: #174EA6;\n",
              "      --disabled-fill-color: #AAA;\n",
              "      --disabled-bg-color: #DDD;\n",
              "  }\n",
              "\n",
              "  [theme=dark] .colab-df-quickchart {\n",
              "      --bg-color: #3B4455;\n",
              "      --fill-color: #D2E3FC;\n",
              "      --hover-bg-color: #434B5C;\n",
              "      --hover-fill-color: #FFFFFF;\n",
              "      --disabled-bg-color: #3B4455;\n",
              "      --disabled-fill-color: #666;\n",
              "  }\n",
              "\n",
              "  .colab-df-quickchart {\n",
              "    background-color: var(--bg-color);\n",
              "    border: none;\n",
              "    border-radius: 50%;\n",
              "    cursor: pointer;\n",
              "    display: none;\n",
              "    fill: var(--fill-color);\n",
              "    height: 32px;\n",
              "    padding: 0;\n",
              "    width: 32px;\n",
              "  }\n",
              "\n",
              "  .colab-df-quickchart:hover {\n",
              "    background-color: var(--hover-bg-color);\n",
              "    box-shadow: 0 1px 2px rgba(60, 64, 67, 0.3), 0 1px 3px 1px rgba(60, 64, 67, 0.15);\n",
              "    fill: var(--button-hover-fill-color);\n",
              "  }\n",
              "\n",
              "  .colab-df-quickchart-complete:disabled,\n",
              "  .colab-df-quickchart-complete:disabled:hover {\n",
              "    background-color: var(--disabled-bg-color);\n",
              "    fill: var(--disabled-fill-color);\n",
              "    box-shadow: none;\n",
              "  }\n",
              "\n",
              "  .colab-df-spinner {\n",
              "    border: 2px solid var(--fill-color);\n",
              "    border-color: transparent;\n",
              "    border-bottom-color: var(--fill-color);\n",
              "    animation:\n",
              "      spin 1s steps(1) infinite;\n",
              "  }\n",
              "\n",
              "  @keyframes spin {\n",
              "    0% {\n",
              "      border-color: transparent;\n",
              "      border-bottom-color: var(--fill-color);\n",
              "      border-left-color: var(--fill-color);\n",
              "    }\n",
              "    20% {\n",
              "      border-color: transparent;\n",
              "      border-left-color: var(--fill-color);\n",
              "      border-top-color: var(--fill-color);\n",
              "    }\n",
              "    30% {\n",
              "      border-color: transparent;\n",
              "      border-left-color: var(--fill-color);\n",
              "      border-top-color: var(--fill-color);\n",
              "      border-right-color: var(--fill-color);\n",
              "    }\n",
              "    40% {\n",
              "      border-color: transparent;\n",
              "      border-right-color: var(--fill-color);\n",
              "      border-top-color: var(--fill-color);\n",
              "    }\n",
              "    60% {\n",
              "      border-color: transparent;\n",
              "      border-right-color: var(--fill-color);\n",
              "    }\n",
              "    80% {\n",
              "      border-color: transparent;\n",
              "      border-right-color: var(--fill-color);\n",
              "      border-bottom-color: var(--fill-color);\n",
              "    }\n",
              "    90% {\n",
              "      border-color: transparent;\n",
              "      border-bottom-color: var(--fill-color);\n",
              "    }\n",
              "  }\n",
              "</style>\n",
              "\n",
              "  <script>\n",
              "    async function quickchart(key) {\n",
              "      const quickchartButtonEl =\n",
              "        document.querySelector('#' + key + ' button');\n",
              "      quickchartButtonEl.disabled = true;  // To prevent multiple clicks.\n",
              "      quickchartButtonEl.classList.add('colab-df-spinner');\n",
              "      try {\n",
              "        const charts = await google.colab.kernel.invokeFunction(\n",
              "            'suggestCharts', [key], {});\n",
              "      } catch (error) {\n",
              "        console.error('Error during call to suggestCharts:', error);\n",
              "      }\n",
              "      quickchartButtonEl.classList.remove('colab-df-spinner');\n",
              "      quickchartButtonEl.classList.add('colab-df-quickchart-complete');\n",
              "    }\n",
              "    (() => {\n",
              "      let quickchartButtonEl =\n",
              "        document.querySelector('#df-558705d3-4480-4eb4-ab5a-d5891a0e4e62 button');\n",
              "      quickchartButtonEl.style.display =\n",
              "        google.colab.kernel.accessAllowed ? 'block' : 'none';\n",
              "    })();\n",
              "  </script>\n",
              "</div>\n",
              "\n",
              "    </div>\n",
              "  </div>\n"
            ],
            "application/vnd.google.colaboratory.intrinsic+json": {
              "type": "dataframe",
              "variable_name": "df_final"
            }
          },
          "metadata": {},
          "execution_count": 38
        }
      ]
    },
    {
      "cell_type": "code",
      "source": [
        "# Finalizing data types for each column\n",
        "\n",
        "df_final[\"YEAR\"] = df_final[\"YEAR\"].astype(int)\n",
        "df_final[\"MONTH\"] = df_final[\"MONTH\"].astype(int)\n",
        "df_final[\"DAY\"] = df_final[\"DAY\"].astype(int)\n",
        "df_final[\"HOUR\"] = df_final[\"HOUR\"].astype(int)\n",
        "df_final[\"MINUTE\"] = df_final[\"MINUTE\"].astype(int)\n",
        "df_final[\"SHIFT\"] = df_final[\"SHIFT\"].astype(\"category\")\n",
        "df_final[\"METHOD\"] = df_final[\"METHOD\"].astype(\"category\")\n",
        "df_final[\"OFFENSE\"] = df_final[\"OFFENSE\"].astype(\"category\")\n",
        "df_final[\"BLOCK\"] = df_final[\"BLOCK\"].astype(str)\n",
        "df_final[\"WARD\"] = df_final[\"WARD\"].astype(int)\n",
        "df_final[\"ANC\"] = df_final[\"ANC\"].astype(\"category\")\n",
        "df_final[\"DISTRICT\"] = df_final[\"DISTRICT\"].astype(int)\n",
        "df_final[\"PSA\"] = df_final[\"PSA\"].astype(int)\n",
        "df_final[\"VOTING_PRECINCT\"] = df_final[\"VOTING_PRECINCT\"].astype(\"category\")"
      ],
      "metadata": {
        "id": "AQ1XuzwvSsf4"
      },
      "execution_count": null,
      "outputs": []
    },
    {
      "cell_type": "code",
      "source": [
        "# Merging 2 categories in offense - THEFT/OTHER and\n",
        "\n",
        "df_final[\"OFFENSE\"] = df_final[\"OFFENSE\"].replace({\"THEFT/OTHER\": \"THEFT\", \"THEFT F/AUTO\": \"THEFT\"})"
      ],
      "metadata": {
        "id": "jZDeft3fYopQ",
        "colab": {
          "base_uri": "https://localhost:8080/"
        },
        "outputId": "31edac06-9049-43de-adb4-cb20c22056db"
      },
      "execution_count": null,
      "outputs": [
        {
          "output_type": "stream",
          "name": "stderr",
          "text": [
            "<ipython-input-40-eb39e788a5bc>:3: FutureWarning: The behavior of Series.replace (and DataFrame.replace) with CategoricalDtype is deprecated. In a future version, replace will only be used for cases that preserve the categories. To change the categories, use ser.cat.rename_categories instead.\n",
            "  df_final[\"OFFENSE\"] = df_final[\"OFFENSE\"].replace({\"THEFT/OTHER\": \"THEFT\", \"THEFT F/AUTO\": \"THEFT\"})\n"
          ]
        }
      ]
    },
    {
      "cell_type": "code",
      "source": [
        "df_final[\"OFFENSE\"].value_counts()"
      ],
      "metadata": {
        "colab": {
          "base_uri": "https://localhost:8080/"
        },
        "id": "Zg2rPuX-XC_A",
        "outputId": "134274c3-10be-4273-b3a6-35b9f73b3709"
      },
      "execution_count": null,
      "outputs": [
        {
          "output_type": "execute_result",
          "data": {
            "text/plain": [
              "OFFENSE\n",
              "THEFT                         327306\n",
              "MOTOR VEHICLE THEFT            52890\n",
              "ROBBERY                        47094\n",
              "BURGLARY                       37237\n",
              "ASSAULT W/DANGEROUS WEAPON     30616\n",
              "SEX ABUSE                       3428\n",
              "HOMICIDE                        2225\n",
              "ARSON                            362\n",
              "Name: count, dtype: int64"
            ],
            "text/html": [
              "<div>\n",
              "<style scoped>\n",
              "    .dataframe tbody tr th:only-of-type {\n",
              "        vertical-align: middle;\n",
              "    }\n",
              "\n",
              "    .dataframe tbody tr th {\n",
              "        vertical-align: top;\n",
              "    }\n",
              "\n",
              "    .dataframe thead th {\n",
              "        text-align: right;\n",
              "    }\n",
              "</style>\n",
              "<table border=\"1\" class=\"dataframe\">\n",
              "  <thead>\n",
              "    <tr style=\"text-align: right;\">\n",
              "      <th></th>\n",
              "      <th>count</th>\n",
              "    </tr>\n",
              "    <tr>\n",
              "      <th>OFFENSE</th>\n",
              "      <th></th>\n",
              "    </tr>\n",
              "  </thead>\n",
              "  <tbody>\n",
              "    <tr>\n",
              "      <th>THEFT</th>\n",
              "      <td>327306</td>\n",
              "    </tr>\n",
              "    <tr>\n",
              "      <th>MOTOR VEHICLE THEFT</th>\n",
              "      <td>52890</td>\n",
              "    </tr>\n",
              "    <tr>\n",
              "      <th>ROBBERY</th>\n",
              "      <td>47094</td>\n",
              "    </tr>\n",
              "    <tr>\n",
              "      <th>BURGLARY</th>\n",
              "      <td>37237</td>\n",
              "    </tr>\n",
              "    <tr>\n",
              "      <th>ASSAULT W/DANGEROUS WEAPON</th>\n",
              "      <td>30616</td>\n",
              "    </tr>\n",
              "    <tr>\n",
              "      <th>SEX ABUSE</th>\n",
              "      <td>3428</td>\n",
              "    </tr>\n",
              "    <tr>\n",
              "      <th>HOMICIDE</th>\n",
              "      <td>2225</td>\n",
              "    </tr>\n",
              "    <tr>\n",
              "      <th>ARSON</th>\n",
              "      <td>362</td>\n",
              "    </tr>\n",
              "  </tbody>\n",
              "</table>\n",
              "</div><br><label><b>dtype:</b> int64</label>"
            ]
          },
          "metadata": {},
          "execution_count": 41
        }
      ]
    },
    {
      "cell_type": "code",
      "source": [
        "print(df_final.info())"
      ],
      "metadata": {
        "colab": {
          "base_uri": "https://localhost:8080/"
        },
        "id": "rsnceqQNVqZQ",
        "outputId": "bc87dfd0-73bf-46fa-ba6c-3ebd1635866a"
      },
      "execution_count": null,
      "outputs": [
        {
          "output_type": "stream",
          "name": "stdout",
          "text": [
            "<class 'pandas.core.frame.DataFrame'>\n",
            "Index: 501158 entries, 0 to 24534\n",
            "Data columns (total 16 columns):\n",
            " #   Column           Non-Null Count   Dtype   \n",
            "---  ------           --------------   -----   \n",
            " 0   YEAR             501158 non-null  int64   \n",
            " 1   MONTH            501158 non-null  int64   \n",
            " 2   DAY              501158 non-null  int64   \n",
            " 3   HOUR             501158 non-null  int64   \n",
            " 4   MINUTE           501158 non-null  int64   \n",
            " 5   SHIFT            501158 non-null  category\n",
            " 6   METHOD           501158 non-null  category\n",
            " 7   OFFENSE          501158 non-null  category\n",
            " 8   BLOCK            501158 non-null  object  \n",
            " 9   WARD             501158 non-null  int64   \n",
            " 10  ANC              501158 non-null  category\n",
            " 11  DISTRICT         501158 non-null  int64   \n",
            " 12  PSA              501158 non-null  int64   \n",
            " 13  VOTING_PRECINCT  501158 non-null  category\n",
            " 14  LATITUDE         501158 non-null  float64 \n",
            " 15  LONGITUDE        501158 non-null  float64 \n",
            "dtypes: category(5), float64(2), int64(8), object(1)\n",
            "memory usage: 48.8+ MB\n",
            "None\n"
          ]
        }
      ]
    },
    {
      "cell_type": "code",
      "source": [
        "# Saving the dataset into a csv file\n",
        "\n",
        "df_final.to_csv('combined_data_noCovid1.csv', index=False)"
      ],
      "metadata": {
        "id": "H9NdM0Fo6mrp"
      },
      "execution_count": null,
      "outputs": []
    }
  ]
}