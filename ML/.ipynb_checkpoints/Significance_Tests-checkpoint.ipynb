{
 "cells": [
  {
   "cell_type": "code",
   "execution_count": 11,
   "metadata": {
    "colab": {
     "base_uri": "https://localhost:8080/"
    },
    "id": "14NuqywRKIV9",
    "outputId": "c6b359cf-6fee-4a9e-8339-df405061bf0b"
   },
   "outputs": [],
   "source": [
    "import pandas as pd\n",
    "from scipy.stats import chi2_contingency\n",
    "\n",
    "# Define the file path (Replace with your actual file path)\n",
    "file_path = r\"C:\\Users\\Abhimanyu\\Desktop\\Github\\DSCapstone\\ML\\content\\combined_data.csv\"\n",
    "\n",
    "# Load the dataset\n",
    "df1 = pd.read_csv(file_path)\n",
    "\n",
    "# Identify categorical columns\n",
    "categorical_columns = df1.select_dtypes(include=['object', 'category']).columns\n",
    "\n",
    "# Convert categorical columns to 'category' type if not already\n",
    "df1[categorical_columns] = df1[categorical_columns].astype('category')\n",
    "df1['OFFENSE'] = df1['OFFENSE'].astype('category')  # Ensure 'OFFENSE' is categorical\n",
    "\n",
    "# Perform chi-square test for 'OFFENSE' against all other categorical variables\n",
    "results = []\n",
    "for col in categorical_columns:\n",
    "    if col != 'OFFENSE':  # Exclude 'OFFENSE' vs itself\n",
    "        # Create contingency table\n",
    "        contingency_table = pd.crosstab(df1['OFFENSE'], df1[col])\n",
    "        \n",
    "        # Perform Chi-Square Test\n",
    "        chi2_stat, p_value, dof, expected = chi2_contingency(contingency_table)\n",
    "        \n",
    "        # Store results\n",
    "        results.append({\n",
    "            'Variable': col,\n",
    "            'Chi-Square Statistic': chi2_stat,\n",
    "            'P-Value': p_value,\n",
    "            'Degrees of Freedom': dof\n",
    "        })\n",
    "\n",
    "# Convert results to a DataFrame for better readability\n",
    "results_df = pd.DataFrame(results)"
   ]
  },
  {
   "cell_type": "code",
   "execution_count": 13,
   "metadata": {},
   "outputs": [
    {
     "name": "stdout",
     "output_type": "stream",
     "text": [
      "          Variable  Chi-Square Statistic  P-Value  Degrees of Freedom\n",
      "0            SHIFT          38444.326074      0.0                  14\n",
      "1           METHOD         352127.397552      0.0                  14\n",
      "2            BLOCK         303698.863672      0.0              139944\n",
      "3              ANC          60861.326221      0.0                 322\n",
      "4  VOTING_PRECINCT          70108.343402      0.0                1001\n"
     ]
    }
   ],
   "source": [
    "print(results_df)\n"
   ]
  },
  {
   "cell_type": "code",
   "execution_count": null,
   "metadata": {
    "colab": {
     "base_uri": "https://localhost:8080/"
    },
    "id": "aKhHHtm7K7s3",
    "outputId": "8ceebc3e-25eb-4b66-c953-1e8397895bd0"
   },
   "outputs": [
    {
     "name": "stdout",
     "output_type": "stream",
     "text": [
      "Significant numerical features (p < 0.05):\n",
      "Feature: YEAR, Statistic: 12869.078061260632, p-value: 0.0\n",
      "Feature: MONTH, Statistic: 115.93579334134652, p-value: 5.371068151217956e-22\n",
      "Feature: DAY, Statistic: 14.199319567915548, p-value: 0.04774772004140339\n",
      "Feature: HOUR, Statistic: 13682.277695080911, p-value: 0.0\n",
      "Feature: MINUTE, Statistic: 6948.321434582679, p-value: 0.0\n",
      "Feature: WARD, Statistic: 32356.142797190932, p-value: 0.0\n",
      "Feature: DISTRICT, Statistic: 38067.67156243931, p-value: 0.0\n",
      "Feature: PSA, Statistic: 38478.562832166775, p-value: 0.0\n",
      "Feature: LATITUDE, Statistic: 12610.926583294447, p-value: 0.0\n",
      "Feature: LONGITUDE, Statistic: 31276.422230764456, p-value: 0.0\n"
     ]
    }
   ],
   "source": [
    "from scipy.stats import kruskal\n",
    "\n",
    "# List to store significant results\n",
    "significant_features = []\n",
    "\n",
    "# Perform Kruskal-Wallis H test for each numerical column\n",
    "for col in ['YEAR', 'MONTH', 'DAY', 'HOUR', 'MINUTE', 'WARD', 'DISTRICT', 'PSA', 'LATITUDE', 'LONGITUDE']:\n",
    "    groups = [group[col].values for name, group in df1.groupby('OFFENSE')]\n",
    "    stat, p_value = kruskal(*groups)\n",
    "\n",
    "    if p_value < 0.05:  # Check if the p-value is less than 0.05\n",
    "        significant_features.append((col, stat, p_value))\n",
    "\n",
    "# Print significant features\n",
    "print(\"Significant numerical features (p < 0.05):\")\n",
    "for feature in significant_features:\n",
    "    print(f\"Feature: {feature[0]}, Statistic: {feature[1]}, p-value: {feature[2]}\")"
   ]
  }
 ],
 "metadata": {
  "colab": {
   "provenance": []
  },
  "kernelspec": {
   "display_name": "Python 3 (ipykernel)",
   "language": "python",
   "name": "python3"
  },
  "language_info": {
   "codemirror_mode": {
    "name": "ipython",
    "version": 3
   },
   "file_extension": ".py",
   "mimetype": "text/x-python",
   "name": "python",
   "nbconvert_exporter": "python",
   "pygments_lexer": "ipython3",
   "version": "3.12.7"
  }
 },
 "nbformat": 4,
 "nbformat_minor": 4
}
